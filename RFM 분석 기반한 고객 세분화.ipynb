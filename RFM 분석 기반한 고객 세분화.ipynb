{
 "cells": [
  {
   "cell_type": "code",
   "execution_count": 35,
   "id": "c3394e54",
   "metadata": {},
   "outputs": [],
   "source": [
    "from IPython.core.interactiveshell import InteractiveShell\n",
    "InteractiveShell.ast_node_interactivity = \"all\""
   ]
  },
  {
   "cell_type": "code",
   "execution_count": 36,
   "id": "7a43c847",
   "metadata": {},
   "outputs": [],
   "source": [
    "import numpy as np\n",
    "import pandas as pd\n",
    "import warnings\n",
    "import datetime as dt\n",
    "import matplotlib.pyplot as plt\n",
    "import seaborn as sns\n",
    "from sklearn.preprocessing import StandardScaler\n",
    "from sklearn.cluster import KMeans"
   ]
  },
  {
   "cell_type": "code",
   "execution_count": 37,
   "id": "724feda0",
   "metadata": {},
   "outputs": [],
   "source": [
    "pd.set_option(\"display.max_columns\", None)\n",
    "pd.set_option(\"display.float\", \"{:.2f}\".format)\n",
    "pd.set_option('display.max_rows', 20)\n",
    "warnings.filterwarnings(action='ignore')"
   ]
  },
  {
   "cell_type": "code",
   "execution_count": 76,
   "id": "0bc2cf23",
   "metadata": {},
   "outputs": [],
   "source": [
    "# 한글폰트적용\n",
    "plt.rc('font', family='Malgun Gothic')\n",
    "plt.rc('axes', unicode_minus=False)\n",
    "%config InlineBackend.figure_format = 'retina'"
   ]
  },
  {
   "cell_type": "markdown",
   "id": "393a033f",
   "metadata": {},
   "source": [
    "# Load dataset"
   ]
  },
  {
   "cell_type": "code",
   "execution_count": 38,
   "id": "d1bfba7d",
   "metadata": {},
   "outputs": [],
   "source": [
    "retail = pd.read_csv('E-commerce.csv', parse_dates=['InvoiceDate'])\n",
    "\n",
    "# 결측치 제거 및 거래 취소 데이터 제거 ('코호트 분석을 이용한 고객생애가치(CLV) 계산 프로젝트' 참고)\n",
    "retail.dropna(subset = ['CustomerID'], inplace=True)\n",
    "retail = retail[~retail['InvoiceNo'].str.contains('C')]"
   ]
  },
  {
   "cell_type": "code",
   "execution_count": 39,
   "id": "183828f5",
   "metadata": {
    "scrolled": true
   },
   "outputs": [
    {
     "data": {
      "text/html": [
       "<div>\n",
       "<style scoped>\n",
       "    .dataframe tbody tr th:only-of-type {\n",
       "        vertical-align: middle;\n",
       "    }\n",
       "\n",
       "    .dataframe tbody tr th {\n",
       "        vertical-align: top;\n",
       "    }\n",
       "\n",
       "    .dataframe thead th {\n",
       "        text-align: right;\n",
       "    }\n",
       "</style>\n",
       "<table border=\"1\" class=\"dataframe\">\n",
       "  <thead>\n",
       "    <tr style=\"text-align: right;\">\n",
       "      <th></th>\n",
       "      <th>InvoiceNo</th>\n",
       "      <th>StockCode</th>\n",
       "      <th>Description</th>\n",
       "      <th>Quantity</th>\n",
       "      <th>InvoiceDate</th>\n",
       "      <th>UnitPrice</th>\n",
       "      <th>CustomerID</th>\n",
       "      <th>Country</th>\n",
       "    </tr>\n",
       "  </thead>\n",
       "  <tbody>\n",
       "    <tr>\n",
       "      <th>0</th>\n",
       "      <td>536365</td>\n",
       "      <td>85123A</td>\n",
       "      <td>WHITE HANGING HEART T-LIGHT HOLDER</td>\n",
       "      <td>6</td>\n",
       "      <td>2010-12-01 08:26:00</td>\n",
       "      <td>2.55</td>\n",
       "      <td>17850.00</td>\n",
       "      <td>United Kingdom</td>\n",
       "    </tr>\n",
       "    <tr>\n",
       "      <th>1</th>\n",
       "      <td>536365</td>\n",
       "      <td>71053</td>\n",
       "      <td>WHITE METAL LANTERN</td>\n",
       "      <td>6</td>\n",
       "      <td>2010-12-01 08:26:00</td>\n",
       "      <td>3.39</td>\n",
       "      <td>17850.00</td>\n",
       "      <td>United Kingdom</td>\n",
       "    </tr>\n",
       "    <tr>\n",
       "      <th>2</th>\n",
       "      <td>536365</td>\n",
       "      <td>84406B</td>\n",
       "      <td>CREAM CUPID HEARTS COAT HANGER</td>\n",
       "      <td>8</td>\n",
       "      <td>2010-12-01 08:26:00</td>\n",
       "      <td>2.75</td>\n",
       "      <td>17850.00</td>\n",
       "      <td>United Kingdom</td>\n",
       "    </tr>\n",
       "    <tr>\n",
       "      <th>3</th>\n",
       "      <td>536365</td>\n",
       "      <td>84029G</td>\n",
       "      <td>KNITTED UNION FLAG HOT WATER BOTTLE</td>\n",
       "      <td>6</td>\n",
       "      <td>2010-12-01 08:26:00</td>\n",
       "      <td>3.39</td>\n",
       "      <td>17850.00</td>\n",
       "      <td>United Kingdom</td>\n",
       "    </tr>\n",
       "    <tr>\n",
       "      <th>4</th>\n",
       "      <td>536365</td>\n",
       "      <td>84029E</td>\n",
       "      <td>RED WOOLLY HOTTIE WHITE HEART.</td>\n",
       "      <td>6</td>\n",
       "      <td>2010-12-01 08:26:00</td>\n",
       "      <td>3.39</td>\n",
       "      <td>17850.00</td>\n",
       "      <td>United Kingdom</td>\n",
       "    </tr>\n",
       "  </tbody>\n",
       "</table>\n",
       "</div>"
      ],
      "text/plain": [
       "  InvoiceNo StockCode                          Description  Quantity  \\\n",
       "0    536365    85123A   WHITE HANGING HEART T-LIGHT HOLDER         6   \n",
       "1    536365     71053                  WHITE METAL LANTERN         6   \n",
       "2    536365    84406B       CREAM CUPID HEARTS COAT HANGER         8   \n",
       "3    536365    84029G  KNITTED UNION FLAG HOT WATER BOTTLE         6   \n",
       "4    536365    84029E       RED WOOLLY HOTTIE WHITE HEART.         6   \n",
       "\n",
       "          InvoiceDate  UnitPrice  CustomerID         Country  \n",
       "0 2010-12-01 08:26:00       2.55    17850.00  United Kingdom  \n",
       "1 2010-12-01 08:26:00       3.39    17850.00  United Kingdom  \n",
       "2 2010-12-01 08:26:00       2.75    17850.00  United Kingdom  \n",
       "3 2010-12-01 08:26:00       3.39    17850.00  United Kingdom  \n",
       "4 2010-12-01 08:26:00       3.39    17850.00  United Kingdom  "
      ]
     },
     "execution_count": 39,
     "metadata": {},
     "output_type": "execute_result"
    }
   ],
   "source": [
    "retail.head()"
   ]
  },
  {
   "cell_type": "markdown",
   "id": "e5cd0372",
   "metadata": {},
   "source": [
    "# RFM analysis"
   ]
  },
  {
   "cell_type": "code",
   "execution_count": 40,
   "id": "c8f0018e",
   "metadata": {},
   "outputs": [],
   "source": [
    "retail['TotalSum'] = retail['Quantity'] * retail['UnitPrice']"
   ]
  },
  {
   "cell_type": "markdown",
   "id": "f995c4d2",
   "metadata": {},
   "source": [
    "제품의 단위 가격과 해당 제품의 구매 수량을 이용하여 제품의 매출액을 나타내는 변수를 생성하였습니다."
   ]
  },
  {
   "cell_type": "code",
   "execution_count": 41,
   "id": "ba275838",
   "metadata": {},
   "outputs": [
    {
     "name": "stdout",
     "output_type": "stream",
     "text": [
      "The earliest date: 2010-12-01 08:26:00\n",
      "The latest date: 2011-12-09 12:50:00\n"
     ]
    }
   ],
   "source": [
    "print(\n",
    "'The earliest date: {}\\nThe latest date: {}'.format(min(retail['InvoiceDate']), max(retail['InvoiceDate'])))"
   ]
  },
  {
   "cell_type": "markdown",
   "id": "420fecf2",
   "metadata": {},
   "source": [
    "주어진 데이터세트는 2010년 12월 1일부터 2011년 12월 9일 까지 데이터가 수집 되었음을 확인하였습니다."
   ]
  },
  {
   "cell_type": "code",
   "execution_count": 42,
   "id": "38159f1f",
   "metadata": {},
   "outputs": [],
   "source": [
    "current_date = max(retail['InvoiceDate']) + dt.timedelta(days=1)"
   ]
  },
  {
   "cell_type": "markdown",
   "id": "6a05389e",
   "metadata": {},
   "source": [
    "현 프로젝트를 데이터 수집이 완료된 다음 날 수행한다고 가정하고 분석 시점을 설정합니다."
   ]
  },
  {
   "cell_type": "code",
   "execution_count": 43,
   "id": "02a37324",
   "metadata": {},
   "outputs": [
    {
     "data": {
      "text/html": [
       "<div>\n",
       "<style scoped>\n",
       "    .dataframe tbody tr th:only-of-type {\n",
       "        vertical-align: middle;\n",
       "    }\n",
       "\n",
       "    .dataframe tbody tr th {\n",
       "        vertical-align: top;\n",
       "    }\n",
       "\n",
       "    .dataframe thead th {\n",
       "        text-align: right;\n",
       "    }\n",
       "</style>\n",
       "<table border=\"1\" class=\"dataframe\">\n",
       "  <thead>\n",
       "    <tr style=\"text-align: right;\">\n",
       "      <th></th>\n",
       "      <th>Recency</th>\n",
       "      <th>Frequency</th>\n",
       "      <th>MonetaryValue</th>\n",
       "    </tr>\n",
       "    <tr>\n",
       "      <th>CustomerID</th>\n",
       "      <th></th>\n",
       "      <th></th>\n",
       "      <th></th>\n",
       "    </tr>\n",
       "  </thead>\n",
       "  <tbody>\n",
       "    <tr>\n",
       "      <th>12346.00</th>\n",
       "      <td>326</td>\n",
       "      <td>1</td>\n",
       "      <td>77183.60</td>\n",
       "    </tr>\n",
       "    <tr>\n",
       "      <th>12347.00</th>\n",
       "      <td>2</td>\n",
       "      <td>182</td>\n",
       "      <td>4310.00</td>\n",
       "    </tr>\n",
       "    <tr>\n",
       "      <th>12348.00</th>\n",
       "      <td>75</td>\n",
       "      <td>31</td>\n",
       "      <td>1797.24</td>\n",
       "    </tr>\n",
       "    <tr>\n",
       "      <th>12349.00</th>\n",
       "      <td>19</td>\n",
       "      <td>73</td>\n",
       "      <td>1757.55</td>\n",
       "    </tr>\n",
       "    <tr>\n",
       "      <th>12350.00</th>\n",
       "      <td>310</td>\n",
       "      <td>17</td>\n",
       "      <td>334.40</td>\n",
       "    </tr>\n",
       "    <tr>\n",
       "      <th>...</th>\n",
       "      <td>...</td>\n",
       "      <td>...</td>\n",
       "      <td>...</td>\n",
       "    </tr>\n",
       "    <tr>\n",
       "      <th>18280.00</th>\n",
       "      <td>278</td>\n",
       "      <td>10</td>\n",
       "      <td>180.60</td>\n",
       "    </tr>\n",
       "    <tr>\n",
       "      <th>18281.00</th>\n",
       "      <td>181</td>\n",
       "      <td>7</td>\n",
       "      <td>80.82</td>\n",
       "    </tr>\n",
       "    <tr>\n",
       "      <th>18282.00</th>\n",
       "      <td>8</td>\n",
       "      <td>12</td>\n",
       "      <td>178.05</td>\n",
       "    </tr>\n",
       "    <tr>\n",
       "      <th>18283.00</th>\n",
       "      <td>4</td>\n",
       "      <td>756</td>\n",
       "      <td>2094.88</td>\n",
       "    </tr>\n",
       "    <tr>\n",
       "      <th>18287.00</th>\n",
       "      <td>43</td>\n",
       "      <td>70</td>\n",
       "      <td>1837.28</td>\n",
       "    </tr>\n",
       "  </tbody>\n",
       "</table>\n",
       "<p>4339 rows × 3 columns</p>\n",
       "</div>"
      ],
      "text/plain": [
       "            Recency  Frequency  MonetaryValue\n",
       "CustomerID                                   \n",
       "12346.00        326          1       77183.60\n",
       "12347.00          2        182        4310.00\n",
       "12348.00         75         31        1797.24\n",
       "12349.00         19         73        1757.55\n",
       "12350.00        310         17         334.40\n",
       "...             ...        ...            ...\n",
       "18280.00        278         10         180.60\n",
       "18281.00        181          7          80.82\n",
       "18282.00          8         12         178.05\n",
       "18283.00          4        756        2094.88\n",
       "18287.00         43         70        1837.28\n",
       "\n",
       "[4339 rows x 3 columns]"
      ]
     },
     "execution_count": 43,
     "metadata": {},
     "output_type": "execute_result"
    }
   ],
   "source": [
    "rfm_tb = retail.groupby('CustomerID').agg({\n",
    "    'InvoiceDate':lambda x: (current_date - max(x)).days,\n",
    "    'InvoiceNo':'count',\n",
    "    'TotalSum':'sum'\n",
    "})\n",
    "\n",
    "rfm_tb.rename(columns={'InvoiceDate':'Recency',\n",
    "                      'InvoiceNo':'Frequency',\n",
    "                      'TotalSum':'MonetaryValue'}, inplace=True)\n",
    "\n",
    "rfm_tb"
   ]
  },
  {
   "cell_type": "markdown",
   "id": "248b3d2f",
   "metadata": {},
   "source": [
    "주어진 데이터세트를 가공하여 RFM 테이블을 만들었습니다."
   ]
  },
  {
   "cell_type": "markdown",
   "id": "601cf4cd",
   "metadata": {},
   "source": [
    "# K-means Clustering"
   ]
  },
  {
   "cell_type": "code",
   "execution_count": 44,
   "id": "d0050d8d",
   "metadata": {},
   "outputs": [
    {
     "data": {
      "image/png": "[encoded data removed]",
      "text/plain": [
       "<Figure size 1296x288 with 3 Axes>"
      ]
     },
     "metadata": {
      "needs_background": "light"
     },
     "output_type": "display_data"
    }
   ],
   "source": [
    "fig, axes = plt.subplots(1, 3, figsize=(18, 4))\n",
    "\n",
    "for ind, col in enumerate(rfm_tb.columns):\n",
    "    _ = sns.histplot(x=col, data=rfm_tb, kde=True, ax = axes[ind])\n",
    "    _ = axes[ind].set_xlabel(col, fontsize=14)"
   ]
  },
  {
   "cell_type": "markdown",
   "id": "1f2fc226",
   "metadata": {},
   "source": [
    "K평균 군집 분석을 실행 하기에 앞서 해당 변수들의 분포의 형태를 알아보았습니다. 세 변수 모두 오른쪽으로 긴 꼬리를 형태를 가진 왜곡이 심한 분포임을 알 수 있습니다."
   ]
  },
  {
   "cell_type": "code",
   "execution_count": 45,
   "id": "118c972d",
   "metadata": {},
   "outputs": [
    {
     "data": {
      "text/html": [
       "<div>\n",
       "<style scoped>\n",
       "    .dataframe tbody tr th:only-of-type {\n",
       "        vertical-align: middle;\n",
       "    }\n",
       "\n",
       "    .dataframe tbody tr th {\n",
       "        vertical-align: top;\n",
       "    }\n",
       "\n",
       "    .dataframe thead th {\n",
       "        text-align: right;\n",
       "    }\n",
       "</style>\n",
       "<table border=\"1\" class=\"dataframe\">\n",
       "  <thead>\n",
       "    <tr style=\"text-align: right;\">\n",
       "      <th></th>\n",
       "      <th>Recency</th>\n",
       "      <th>Frequency</th>\n",
       "      <th>MonetaryValue</th>\n",
       "    </tr>\n",
       "  </thead>\n",
       "  <tbody>\n",
       "    <tr>\n",
       "      <th>count</th>\n",
       "      <td>4339.00</td>\n",
       "      <td>4339.00</td>\n",
       "      <td>4339.00</td>\n",
       "    </tr>\n",
       "    <tr>\n",
       "      <th>mean</th>\n",
       "      <td>92.52</td>\n",
       "      <td>91.71</td>\n",
       "      <td>2053.79</td>\n",
       "    </tr>\n",
       "    <tr>\n",
       "      <th>std</th>\n",
       "      <td>100.01</td>\n",
       "      <td>228.79</td>\n",
       "      <td>8988.25</td>\n",
       "    </tr>\n",
       "    <tr>\n",
       "      <th>min</th>\n",
       "      <td>1.00</td>\n",
       "      <td>1.00</td>\n",
       "      <td>0.00</td>\n",
       "    </tr>\n",
       "    <tr>\n",
       "      <th>25%</th>\n",
       "      <td>18.00</td>\n",
       "      <td>17.00</td>\n",
       "      <td>307.24</td>\n",
       "    </tr>\n",
       "    <tr>\n",
       "      <th>50%</th>\n",
       "      <td>51.00</td>\n",
       "      <td>41.00</td>\n",
       "      <td>674.45</td>\n",
       "    </tr>\n",
       "    <tr>\n",
       "      <th>75%</th>\n",
       "      <td>142.00</td>\n",
       "      <td>100.00</td>\n",
       "      <td>1661.64</td>\n",
       "    </tr>\n",
       "    <tr>\n",
       "      <th>max</th>\n",
       "      <td>374.00</td>\n",
       "      <td>7847.00</td>\n",
       "      <td>280206.02</td>\n",
       "    </tr>\n",
       "  </tbody>\n",
       "</table>\n",
       "</div>"
      ],
      "text/plain": [
       "       Recency  Frequency  MonetaryValue\n",
       "count  4339.00    4339.00        4339.00\n",
       "mean     92.52      91.71        2053.79\n",
       "std     100.01     228.79        8988.25\n",
       "min       1.00       1.00           0.00\n",
       "25%      18.00      17.00         307.24\n",
       "50%      51.00      41.00         674.45\n",
       "75%     142.00     100.00        1661.64\n",
       "max     374.00    7847.00      280206.02"
      ]
     },
     "execution_count": 45,
     "metadata": {},
     "output_type": "execute_result"
    }
   ],
   "source": [
    "rfm_tb.describe()"
   ]
  },
  {
   "cell_type": "markdown",
   "id": "1044b2f6",
   "metadata": {},
   "source": [
    "각 변수들의 기초 통계량을 확인 하였습니다."
   ]
  },
  {
   "cell_type": "code",
   "execution_count": 46,
   "id": "175cdda4",
   "metadata": {},
   "outputs": [
    {
     "data": {
      "image/png": "[encoded data removed]",
      "text/plain": [
       "<Figure size 1296x288 with 3 Axes>"
      ]
     },
     "metadata": {
      "needs_background": "light"
     },
     "output_type": "display_data"
    }
   ],
   "source": [
    "rfm_log = np.log(rfm_tb + 1)\n",
    "\n",
    "fig, axes = plt.subplots(1, 3, figsize=(18, 4))\n",
    "\n",
    "for ind, col in enumerate(rfm_log.columns):\n",
    "    _ = sns.histplot(x=col, data=rfm_log, kde=True, ax = axes[ind])\n",
    "    _ = axes[ind].set_xlabel(col, fontsize=14)"
   ]
  },
  {
   "cell_type": "markdown",
   "id": "072cf6b8",
   "metadata": {},
   "source": [
    "모든 변수들을 로그 변환한 후에 다시 분포를 확인한 결과 정규분포에 가까워 졌음을 확인할 수 있습니다."
   ]
  },
  {
   "cell_type": "code",
   "execution_count": 47,
   "id": "0453194d",
   "metadata": {},
   "outputs": [],
   "source": [
    "scaler = StandardScaler()\n",
    "rfm_std = scaler.fit_transform(rfm_log)\n",
    "rfm_std = pd.DataFrame(rfm_std, columns=rfm_tb.columns)"
   ]
  },
  {
   "cell_type": "code",
   "execution_count": 48,
   "id": "81b6af5d",
   "metadata": {},
   "outputs": [
    {
     "data": {
      "text/html": [
       "<div>\n",
       "<style scoped>\n",
       "    .dataframe tbody tr th:only-of-type {\n",
       "        vertical-align: middle;\n",
       "    }\n",
       "\n",
       "    .dataframe tbody tr th {\n",
       "        vertical-align: top;\n",
       "    }\n",
       "\n",
       "    .dataframe thead th {\n",
       "        text-align: right;\n",
       "    }\n",
       "</style>\n",
       "<table border=\"1\" class=\"dataframe\">\n",
       "  <thead>\n",
       "    <tr style=\"text-align: right;\">\n",
       "      <th></th>\n",
       "      <th>Recency</th>\n",
       "      <th>Frequency</th>\n",
       "      <th>MonetaryValue</th>\n",
       "    </tr>\n",
       "  </thead>\n",
       "  <tbody>\n",
       "    <tr>\n",
       "      <th>count</th>\n",
       "      <td>4339.00</td>\n",
       "      <td>4339.00</td>\n",
       "      <td>4339.00</td>\n",
       "    </tr>\n",
       "    <tr>\n",
       "      <th>mean</th>\n",
       "      <td>-0.00</td>\n",
       "      <td>-0.00</td>\n",
       "      <td>0.00</td>\n",
       "    </tr>\n",
       "    <tr>\n",
       "      <th>std</th>\n",
       "      <td>1.00</td>\n",
       "      <td>1.00</td>\n",
       "      <td>1.00</td>\n",
       "    </tr>\n",
       "    <tr>\n",
       "      <th>min</th>\n",
       "      <td>-2.34</td>\n",
       "      <td>-2.43</td>\n",
       "      <td>-5.23</td>\n",
       "    </tr>\n",
       "    <tr>\n",
       "      <th>25%</th>\n",
       "      <td>-0.66</td>\n",
       "      <td>-0.68</td>\n",
       "      <td>-0.68</td>\n",
       "    </tr>\n",
       "    <tr>\n",
       "      <th>50%</th>\n",
       "      <td>0.09</td>\n",
       "      <td>0.00</td>\n",
       "      <td>-0.06</td>\n",
       "    </tr>\n",
       "    <tr>\n",
       "      <th>75%</th>\n",
       "      <td>0.85</td>\n",
       "      <td>0.70</td>\n",
       "      <td>0.65</td>\n",
       "    </tr>\n",
       "    <tr>\n",
       "      <th>max</th>\n",
       "      <td>1.56</td>\n",
       "      <td>4.18</td>\n",
       "      <td>4.72</td>\n",
       "    </tr>\n",
       "  </tbody>\n",
       "</table>\n",
       "</div>"
      ],
      "text/plain": [
       "       Recency  Frequency  MonetaryValue\n",
       "count  4339.00    4339.00        4339.00\n",
       "mean     -0.00      -0.00           0.00\n",
       "std       1.00       1.00           1.00\n",
       "min      -2.34      -2.43          -5.23\n",
       "25%      -0.66      -0.68          -0.68\n",
       "50%       0.09       0.00          -0.06\n",
       "75%       0.85       0.70           0.65\n",
       "max       1.56       4.18           4.72"
      ]
     },
     "execution_count": 48,
     "metadata": {},
     "output_type": "execute_result"
    }
   ],
   "source": [
    "rfm_std.describe()"
   ]
  },
  {
   "cell_type": "markdown",
   "id": "3606dac2",
   "metadata": {},
   "source": [
    "정규화 까지 마친 후 변수들의 기초통계량을 확인해 보니, 세 변수 모두 평균 0, 표준편차 1로 변환 되었음을 확인하였습니다."
   ]
  },
  {
   "cell_type": "code",
   "execution_count": 54,
   "id": "680cb5ad",
   "metadata": {},
   "outputs": [
    {
     "data": {
      "text/plain": [
       "KMeans(n_clusters=1, n_jobs=-1, random_state=802)"
      ]
     },
     "execution_count": 54,
     "metadata": {},
     "output_type": "execute_result"
    },
    {
     "data": {
      "text/plain": [
       "KMeans(n_clusters=2, n_jobs=-1, random_state=802)"
      ]
     },
     "execution_count": 54,
     "metadata": {},
     "output_type": "execute_result"
    },
    {
     "data": {
      "text/plain": [
       "KMeans(n_clusters=3, n_jobs=-1, random_state=802)"
      ]
     },
     "execution_count": 54,
     "metadata": {},
     "output_type": "execute_result"
    },
    {
     "data": {
      "text/plain": [
       "KMeans(n_clusters=4, n_jobs=-1, random_state=802)"
      ]
     },
     "execution_count": 54,
     "metadata": {},
     "output_type": "execute_result"
    },
    {
     "data": {
      "text/plain": [
       "KMeans(n_clusters=5, n_jobs=-1, random_state=802)"
      ]
     },
     "execution_count": 54,
     "metadata": {},
     "output_type": "execute_result"
    },
    {
     "data": {
      "text/plain": [
       "KMeans(n_clusters=6, n_jobs=-1, random_state=802)"
      ]
     },
     "execution_count": 54,
     "metadata": {},
     "output_type": "execute_result"
    },
    {
     "data": {
      "text/plain": [
       "KMeans(n_clusters=7, n_jobs=-1, random_state=802)"
      ]
     },
     "execution_count": 54,
     "metadata": {},
     "output_type": "execute_result"
    },
    {
     "data": {
      "text/plain": [
       "KMeans(n_jobs=-1, random_state=802)"
      ]
     },
     "execution_count": 54,
     "metadata": {},
     "output_type": "execute_result"
    },
    {
     "data": {
      "text/plain": [
       "KMeans(n_clusters=9, n_jobs=-1, random_state=802)"
      ]
     },
     "execution_count": 54,
     "metadata": {},
     "output_type": "execute_result"
    },
    {
     "data": {
      "image/png": "[encoded data removed]",
      "text/plain": [
       "<Figure size 432x288 with 1 Axes>"
      ]
     },
     "metadata": {
      "needs_background": "light"
     },
     "output_type": "display_data"
    }
   ],
   "source": [
    "ssd = {}\n",
    "for k in range(1, 10):\n",
    "    km = KMeans(n_clusters=k, n_jobs=-1, random_state=802)\n",
    "    km.fit(rfm_std)\n",
    "    ssd[k] = km.inertia_\n",
    "    \n",
    "_ = sns.pointplot(x=list(ssd.keys()), y=list(ssd.values()))\n",
    "_ = plt.xlabel('Number of K', fontsize=14)\n",
    "_ = plt.title('Elbow plot', fontdict={'fontsize':16})"
   ]
  },
  {
   "cell_type": "markdown",
   "id": "adb7f999",
   "metadata": {},
   "source": [
    "Elbow plot을 통해 적절한 군집의 수를 결정합니다."
   ]
  },
  {
   "cell_type": "code",
   "execution_count": 56,
   "id": "55a78419",
   "metadata": {
    "scrolled": true
   },
   "outputs": [
    {
     "data": {
      "text/plain": [
       "KMeans(n_clusters=4, random_state=802)"
      ]
     },
     "execution_count": 56,
     "metadata": {},
     "output_type": "execute_result"
    }
   ],
   "source": [
    "# 군집 4개\n",
    "km4 = KMeans(n_clusters=4, random_state=802)\n",
    "km4.fit(rfm_std)\n",
    "\n",
    "rfm_tb4 = rfm_tb.assign(Cluster = km4.labels_)"
   ]
  },
  {
   "cell_type": "code",
   "execution_count": 57,
   "id": "54d146ec",
   "metadata": {
    "scrolled": true
   },
   "outputs": [
    {
     "data": {
      "text/html": [
       "<div>\n",
       "<style scoped>\n",
       "    .dataframe tbody tr th:only-of-type {\n",
       "        vertical-align: middle;\n",
       "    }\n",
       "\n",
       "    .dataframe tbody tr th {\n",
       "        vertical-align: top;\n",
       "    }\n",
       "\n",
       "    .dataframe thead th {\n",
       "        text-align: right;\n",
       "    }\n",
       "</style>\n",
       "<table border=\"1\" class=\"dataframe\">\n",
       "  <thead>\n",
       "    <tr style=\"text-align: right;\">\n",
       "      <th></th>\n",
       "      <th>Recency</th>\n",
       "      <th>Frequency</th>\n",
       "      <th>MonetaryValue</th>\n",
       "    </tr>\n",
       "    <tr>\n",
       "      <th>Cluster</th>\n",
       "      <th></th>\n",
       "      <th></th>\n",
       "      <th></th>\n",
       "    </tr>\n",
       "  </thead>\n",
       "  <tbody>\n",
       "    <tr>\n",
       "      <th>0</th>\n",
       "      <td>19.89</td>\n",
       "      <td>38.75</td>\n",
       "      <td>612.06</td>\n",
       "    </tr>\n",
       "    <tr>\n",
       "      <th>1</th>\n",
       "      <td>96.50</td>\n",
       "      <td>80.18</td>\n",
       "      <td>1517.30</td>\n",
       "    </tr>\n",
       "    <tr>\n",
       "      <th>2</th>\n",
       "      <td>12.96</td>\n",
       "      <td>282.92</td>\n",
       "      <td>7042.57</td>\n",
       "    </tr>\n",
       "    <tr>\n",
       "      <th>3</th>\n",
       "      <td>185.12</td>\n",
       "      <td>14.95</td>\n",
       "      <td>298.18</td>\n",
       "    </tr>\n",
       "  </tbody>\n",
       "</table>\n",
       "</div>"
      ],
      "text/plain": [
       "         Recency  Frequency  MonetaryValue\n",
       "Cluster                                   \n",
       "0          19.89      38.75         612.06\n",
       "1          96.50      80.18        1517.30\n",
       "2          12.96     282.92        7042.57\n",
       "3         185.12      14.95         298.18"
      ]
     },
     "execution_count": 57,
     "metadata": {},
     "output_type": "execute_result"
    }
   ],
   "source": [
    "rfm_tb4.groupby('Cluster').mean()"
   ]
  },
  {
   "cell_type": "markdown",
   "id": "0fe4a703",
   "metadata": {},
   "source": [
    "K 평균 군집 분석을 통해 4개의 최적의 군집을 찾았습니다. 하지만 이 데이터세트는 로그 변환을 하기전 심하게 왜곡된 분포를 가지고 있었기 때문에 현재 가장 상위 군집인 `Cluster2`을 다시 세분화할 수 있을거라 판단하고 조금 더 알아보기로 합니다."
   ]
  },
  {
   "cell_type": "code",
   "execution_count": 58,
   "id": "ca77362b",
   "metadata": {},
   "outputs": [
    {
     "data": {
      "image/png": "[encoded data removed]",
      "text/plain": [
       "<Figure size 1296x288 with 3 Axes>"
      ]
     },
     "metadata": {
      "needs_background": "light"
     },
     "output_type": "display_data"
    }
   ],
   "source": [
    "rfm_tb4['Cluster'] = rfm_tb4['Cluster'].astype('category')\n",
    "\n",
    "fig, axes = plt.subplots(1, 3, figsize=(18, 4))\n",
    "for ind, col in enumerate(['Recency', 'Frequency', 'MonetaryValue']):\n",
    "    _ = sns.boxplot(x=col, y='Cluster', data=rfm_tb4, ax=axes[ind])\n",
    "    _ = axes[ind].set_xlabel(col, fontsize=14)\n",
    "    _ = axes[ind].set_ylabel('Cluster', fontsize=14)"
   ]
  },
  {
   "cell_type": "markdown",
   "id": "bd7e9cc0",
   "metadata": {},
   "source": [
    "각각의 군집을 각 변수 별로 박스플롯을 통해 분포의 형태를 알아보았습니다. 예상 했듯이 `Cluster2`의 분포를 보니 박스 플롯 상의 아웃라이어를 활용하여 최상위 고객을 나타내는 군집으로 더 세분화 할 수 있을거라 판단됩니다."
   ]
  },
  {
   "cell_type": "code",
   "execution_count": 59,
   "id": "acc9413f",
   "metadata": {},
   "outputs": [],
   "source": [
    "rfm_std4 = rfm_std.assign(Cluster=km4.labels_)"
   ]
  },
  {
   "cell_type": "code",
   "execution_count": 60,
   "id": "6904c4de",
   "metadata": {},
   "outputs": [
    {
     "data": {
      "text/html": [
       "<div>\n",
       "<style scoped>\n",
       "    .dataframe tbody tr th:only-of-type {\n",
       "        vertical-align: middle;\n",
       "    }\n",
       "\n",
       "    .dataframe tbody tr th {\n",
       "        vertical-align: top;\n",
       "    }\n",
       "\n",
       "    .dataframe thead th {\n",
       "        text-align: right;\n",
       "    }\n",
       "</style>\n",
       "<table border=\"1\" class=\"dataframe\">\n",
       "  <thead>\n",
       "    <tr style=\"text-align: right;\">\n",
       "      <th></th>\n",
       "      <th>Recency</th>\n",
       "      <th>Frequency</th>\n",
       "      <th>MonetaryValue</th>\n",
       "      <th>Cluster</th>\n",
       "      <th>Score</th>\n",
       "    </tr>\n",
       "  </thead>\n",
       "  <tbody>\n",
       "    <tr>\n",
       "      <th>1880</th>\n",
       "      <td>-2.34</td>\n",
       "      <td>3.92</td>\n",
       "      <td>4.19</td>\n",
       "      <td>2</td>\n",
       "      <td>3.71</td>\n",
       "    </tr>\n",
       "    <tr>\n",
       "      <th>1690</th>\n",
       "      <td>-2.04</td>\n",
       "      <td>3.12</td>\n",
       "      <td>4.72</td>\n",
       "      <td>2</td>\n",
       "      <td>3.54</td>\n",
       "    </tr>\n",
       "    <tr>\n",
       "      <th>4011</th>\n",
       "      <td>-2.04</td>\n",
       "      <td>4.18</td>\n",
       "      <td>3.19</td>\n",
       "      <td>2</td>\n",
       "      <td>3.36</td>\n",
       "    </tr>\n",
       "    <tr>\n",
       "      <th>1290</th>\n",
       "      <td>-1.66</td>\n",
       "      <td>3.84</td>\n",
       "      <td>3.56</td>\n",
       "      <td>2</td>\n",
       "      <td>3.29</td>\n",
       "    </tr>\n",
       "    <tr>\n",
       "      <th>326</th>\n",
       "      <td>-2.34</td>\n",
       "      <td>3.75</td>\n",
       "      <td>3.04</td>\n",
       "      <td>2</td>\n",
       "      <td>3.19</td>\n",
       "    </tr>\n",
       "    <tr>\n",
       "      <th>2177</th>\n",
       "      <td>-2.34</td>\n",
       "      <td>3.23</td>\n",
       "      <td>3.51</td>\n",
       "      <td>2</td>\n",
       "      <td>3.16</td>\n",
       "    </tr>\n",
       "    <tr>\n",
       "      <th>4202</th>\n",
       "      <td>-2.34</td>\n",
       "      <td>1.86</td>\n",
       "      <td>4.66</td>\n",
       "      <td>2</td>\n",
       "      <td>3.08</td>\n",
       "    </tr>\n",
       "    <tr>\n",
       "      <th>562</th>\n",
       "      <td>-1.82</td>\n",
       "      <td>3.01</td>\n",
       "      <td>3.48</td>\n",
       "      <td>2</td>\n",
       "      <td>2.96</td>\n",
       "    </tr>\n",
       "    <tr>\n",
       "      <th>1334</th>\n",
       "      <td>-1.07</td>\n",
       "      <td>2.80</td>\n",
       "      <td>4.03</td>\n",
       "      <td>2</td>\n",
       "      <td>2.95</td>\n",
       "    </tr>\n",
       "    <tr>\n",
       "      <th>3772</th>\n",
       "      <td>-1.82</td>\n",
       "      <td>2.51</td>\n",
       "      <td>3.83</td>\n",
       "      <td>2</td>\n",
       "      <td>2.90</td>\n",
       "    </tr>\n",
       "  </tbody>\n",
       "</table>\n",
       "</div>"
      ],
      "text/plain": [
       "      Recency  Frequency  MonetaryValue  Cluster  Score\n",
       "1880    -2.34       3.92           4.19        2   3.71\n",
       "1690    -2.04       3.12           4.72        2   3.54\n",
       "4011    -2.04       4.18           3.19        2   3.36\n",
       "1290    -1.66       3.84           3.56        2   3.29\n",
       "326     -2.34       3.75           3.04        2   3.19\n",
       "2177    -2.34       3.23           3.51        2   3.16\n",
       "4202    -2.34       1.86           4.66        2   3.08\n",
       "562     -1.82       3.01           3.48        2   2.96\n",
       "1334    -1.07       2.80           4.03        2   2.95\n",
       "3772    -1.82       2.51           3.83        2   2.90"
      ]
     },
     "execution_count": 60,
     "metadata": {},
     "output_type": "execute_result"
    }
   ],
   "source": [
    "rfm_std4['Score'] = -rfm_std4['Recency']*(1/5) + rfm_std4['Frequency']*(2/5) + rfm_std4['MonetaryValue']*(2/5)\n",
    "rfm_std4.sort_values('Score', ascending=False).head(10)"
   ]
  },
  {
   "cell_type": "markdown",
   "id": "1ccef787",
   "metadata": {},
   "source": [
    "표준화된 데이터세트를 활용하여 `Recency`, `Frequency`, `MonetaryValue` 각 변수에 20%, 40%, 40%의 가중치를 주어 `Score`변수를 만들었습니다. `Score`가 높을 수록 고객 충성도와 지출금액이 높은 고객이라 할 수 있습니다."
   ]
  },
  {
   "cell_type": "code",
   "execution_count": 63,
   "id": "50da65ec",
   "metadata": {},
   "outputs": [
    {
     "data": {
      "text/plain": [
       "Int64Index([1880, 1690, 4011, 1290,  326, 2177, 4202,  562, 1334, 3772, 1435,\n",
       "            1662, 3729,   55,  997,  570, 3895, 1984, 1965, 1285, 1070,  691,\n",
       "             558, 3177,  796, 2064, 1798, 1263, 1780,  100, 3943, 2584, 3684,\n",
       "            1603, 3713,  445,   71, 2706,  223, 1054, 1059, 2313, 3824, 2703,\n",
       "            2991, 3993,  273, 3956, 3897, 3694],\n",
       "           dtype='int64')"
      ]
     },
     "execution_count": 63,
     "metadata": {},
     "output_type": "execute_result"
    }
   ],
   "source": [
    "top50 = rfm_std4.sort_values('Score', ascending=False).head(50).index\n",
    "top50"
   ]
  },
  {
   "cell_type": "code",
   "execution_count": 64,
   "id": "cb13a991",
   "metadata": {},
   "outputs": [],
   "source": [
    "rfm_tb4['Cluster'] = rfm_tb4['Cluster'].astype('int')\n",
    "rfm_tb4.iloc[top50, 3] = 4\n",
    "\n",
    "rfm_tb4 = rfm_tb4.reset_index()\n",
    "rfm_tb4['Score'] = rfm_std4['Score']"
   ]
  },
  {
   "cell_type": "markdown",
   "id": "86ff45b0",
   "metadata": {},
   "source": [
    "`Score`가 가장 높은 최상위 50명의 고객을 새로운 군집(Cluster4)으로 분할 하였습니다."
   ]
  },
  {
   "cell_type": "code",
   "execution_count": 68,
   "id": "d9a01deb",
   "metadata": {},
   "outputs": [
    {
     "data": {
      "text/html": [
       "<div>\n",
       "<style scoped>\n",
       "    .dataframe tbody tr th:only-of-type {\n",
       "        vertical-align: middle;\n",
       "    }\n",
       "\n",
       "    .dataframe tbody tr th {\n",
       "        vertical-align: top;\n",
       "    }\n",
       "\n",
       "    .dataframe thead th {\n",
       "        text-align: right;\n",
       "    }\n",
       "</style>\n",
       "<table border=\"1\" class=\"dataframe\">\n",
       "  <thead>\n",
       "    <tr style=\"text-align: right;\">\n",
       "      <th></th>\n",
       "      <th>Recency</th>\n",
       "      <th>Frequency</th>\n",
       "      <th>MonetaryValue</th>\n",
       "      <th>Score</th>\n",
       "    </tr>\n",
       "    <tr>\n",
       "      <th>Cluster</th>\n",
       "      <th></th>\n",
       "      <th></th>\n",
       "      <th></th>\n",
       "      <th></th>\n",
       "    </tr>\n",
       "  </thead>\n",
       "  <tbody>\n",
       "    <tr>\n",
       "      <th>그룹1</th>\n",
       "      <td>4.70</td>\n",
       "      <td>1213.72</td>\n",
       "      <td>48078.29</td>\n",
       "      <td>2.46</td>\n",
       "    </tr>\n",
       "    <tr>\n",
       "      <th>그룹2</th>\n",
       "      <td>13.47</td>\n",
       "      <td>226.03</td>\n",
       "      <td>4534.27</td>\n",
       "      <td>1.17</td>\n",
       "    </tr>\n",
       "    <tr>\n",
       "      <th>그룹3</th>\n",
       "      <td>96.50</td>\n",
       "      <td>80.18</td>\n",
       "      <td>1517.30</td>\n",
       "      <td>0.22</td>\n",
       "    </tr>\n",
       "    <tr>\n",
       "      <th>그룹4</th>\n",
       "      <td>19.89</td>\n",
       "      <td>38.75</td>\n",
       "      <td>612.06</td>\n",
       "      <td>-0.07</td>\n",
       "    </tr>\n",
       "    <tr>\n",
       "      <th>그룹5</th>\n",
       "      <td>185.12</td>\n",
       "      <td>14.95</td>\n",
       "      <td>298.18</td>\n",
       "      <td>-0.93</td>\n",
       "    </tr>\n",
       "  </tbody>\n",
       "</table>\n",
       "</div>"
      ],
      "text/plain": [
       "         Recency  Frequency  MonetaryValue  Score\n",
       "Cluster                                          \n",
       "그룹1         4.70    1213.72       48078.29   2.46\n",
       "그룹2        13.47     226.03        4534.27   1.17\n",
       "그룹3        96.50      80.18        1517.30   0.22\n",
       "그룹4        19.89      38.75         612.06  -0.07\n",
       "그룹5       185.12      14.95         298.18  -0.93"
      ]
     },
     "execution_count": 68,
     "metadata": {},
     "output_type": "execute_result"
    }
   ],
   "source": [
    "rfm_tb4['Cluster'] = rfm_tb4['Cluster'].replace({4: '그룹1', 2:'그룹2', 1:'그룹3', 0:'그룹4', 3:'그룹5'})\n",
    "rfm_tb4.drop('CustomerID', axis=1).groupby('Cluster').mean().sort_values('Score', ascending=False)"
   ]
  },
  {
   "cell_type": "markdown",
   "id": "8e515542",
   "metadata": {},
   "source": [
    "세분화된 각 고객군 별 평균 `Recency`, `Frequency`, `MonetaryValue`, `Score`를 확인하였습니다. `Score`가 높을 수록 충성도와 지출액이 높은 고객군이라 볼 수 있을 것 같습니다. 하지만 그룹4 고객군은 그룹3 고객군에 비해 거래 빈도와 지출금액이 낮지만 비교적 최근까지 거래가 더 활발한 특징을 보입니다."
   ]
  }
 ],
 "metadata": {
  "kernelspec": {
   "display_name": "Python 3",
   "language": "python",
   "name": "python3"
  },
  "language_info": {
   "codemirror_mode": {
    "name": "ipython",
    "version": 3
   },
   "file_extension": ".py",
   "mimetype": "text/x-python",
   "name": "python",
   "nbconvert_exporter": "python",
   "pygments_lexer": "ipython3",
   "version": "3.8.8"
  },
  "toc": {
   "base_numbering": 1,
   "nav_menu": {},
   "number_sections": false,
   "sideBar": true,
   "skip_h1_title": false,
   "title_cell": "Table of Contents",
   "title_sidebar": "Contents",
   "toc_cell": false,
   "toc_position": {},
   "toc_section_display": true,
   "toc_window_display": false
  }
 },
 "nbformat": 4,
 "nbformat_minor": 5
}
